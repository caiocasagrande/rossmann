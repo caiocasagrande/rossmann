{
 "cells": [
  {
   "cell_type": "markdown",
   "metadata": {},
   "source": [
    "# Rossmann Sales Prediction"
   ]
  },
  {
   "cell_type": "markdown",
   "metadata": {},
   "source": [
    "## About Sales Prediction\n",
    "\n",
    "In the world of retail, accurate sales prediction is key for companies like Rossmann. Sales prediction is the practice of leveraging historical data and data-driven methodologies to anticipate future sales trends, enabling businesses to make informed decisions on inventory management, marketing strategies, and resource allocation. "
   ]
  },
  {
   "cell_type": "markdown",
   "metadata": {},
   "source": [
    "## About Rossmann"
   ]
  },
  {
   "cell_type": "markdown",
   "metadata": {},
   "source": [
    "Rossmann, a prominent European drug store and retail chain, plays a vital role in the daily lives of countless customers across multiple countries. With a vast array of products, from cosmetics and personal care items to household essentials, Rossmann has become a go-to destination for shoppers seeking quality goods at competitive prices. \n",
    "\n",
    "In this data science project, I delve into the challenge of forecasting Rossmann store revenues, a task with significant implications for the company's operations and decision-making. By leveraging data-driven insights and predictive models, I aim to uncover patterns and trends that can help Rossmann optimize its business strategies and improve its performance."
   ]
  },
  {
   "cell_type": "markdown",
   "metadata": {},
   "source": [
    "## Business Problem\n",
    "\n",
    "**Business Challenge: Developing a Sales Prediction Model**\n",
    "\n",
    "A sales prediction model for the following six weeks will be developed in order to predict how much money each store of the company will have available to spend on their renovation."
   ]
  },
  {
   "cell_type": "markdown",
   "metadata": {},
   "source": [
    "## 0. Imports"
   ]
  },
  {
   "cell_type": "markdown",
   "metadata": {},
   "source": [
    "### 0.1. Libraries"
   ]
  },
  {
   "cell_type": "code",
   "execution_count": 1,
   "metadata": {},
   "outputs": [],
   "source": [
    "### Data Manipulation\n",
    "import pandas                   as pd\n",
    "import numpy                    as np\n",
    "\n",
    "### Other Libraries\n",
    "import inflection\n",
    "import datetime \n",
    "import warnings"
   ]
  },
  {
   "cell_type": "markdown",
   "metadata": {},
   "source": [
    "### 0.2. Settings"
   ]
  },
  {
   "cell_type": "code",
   "execution_count": 2,
   "metadata": {},
   "outputs": [],
   "source": [
    "### Ignoring warnings\n",
    "warnings.filterwarnings('ignore')\n",
    "\n",
    "### Pandas Settings\n",
    "pd.set_option('display.float_format', lambda x: '%.2f' % x)\n",
    "pd.set_option('display.max_columns', None)"
   ]
  },
  {
   "cell_type": "markdown",
   "metadata": {},
   "source": [
    "### 0.3. Functions"
   ]
  },
  {
   "cell_type": "code",
   "execution_count": 3,
   "metadata": {},
   "outputs": [],
   "source": [
    "### Data manipulation functions\n",
    "\n",
    "def df_shape(df):\n",
    "    \"\"\"\n",
    "    Summary: The function prints the number of rows and columns of a given DataFrame.\n",
    "\n",
    "    Args: DataFrame we want to know more about.\n",
    "    \n",
    "    Returns: number of rows and columns of the DataFrame.\n",
    "    \"\"\"\n",
    "\n",
    "    print('Number of rows: {:,}'.format(df.shape[0]))\n",
    "    print('Number of columns: {:,}'.format(df.shape[1]))\n",
    "\n",
    "    return None\n",
    "\n",
    "### Pre-processing\n",
    "def df_na_values(dataframe):\n",
    "    \"\"\"\n",
    "    Summary: This function displays the name of the columns that have NA values (total and percentage) of a dataframe\n",
    "\n",
    "    Args: Dataframe \n",
    "\n",
    "    Returns: Dataframe with name of feature, NA values, NA% values\n",
    "    \"\"\"\n",
    "    # Calculating\n",
    "    na_values = pd.DataFrame(\n",
    "        {'NA':  dataframe.isna().sum(), \n",
    "         'NA%': (dataframe.isna().sum()) / (dataframe.shape[0]) * 100}\n",
    "    ).sort_values('NA', ascending=False)\n",
    "\n",
    "    # Filtering values\n",
    "    na_values = na_values[na_values['NA'] != 0]\n",
    "\n",
    "    # Formatting\n",
    "    na_values['NA'] = na_values['NA'].apply(lambda x: f'{x:,.0f}')\n",
    "    na_values['NA%'] = na_values['NA%'].apply(lambda x: f'{x:.2f}%')\n",
    "\n",
    "    return na_values\n",
    "\n",
    "def columns_to_snake_case(dataframe):\n",
    "    \"\"\"\n",
    "    Summary: This function transforms the column names to snake_case style.\n",
    "\n",
    "    Args: Dataframe with incorrect column names.\n",
    "\n",
    "    Returns: None.\n",
    "    \"\"\"\n",
    "    # List of columns\n",
    "    old_columns = dataframe.columns.tolist()\n",
    "    # Lambda function\n",
    "    snake_case = lambda x: inflection.underscore(x)\n",
    "    # Assigning new column names to DataFrame\n",
    "    dataframe.columns = list(map(snake_case, old_columns))\n",
    "\n",
    "    return None\n",
    "\n",
    "def comp_nan_values(df, month_column, year_column):\n",
    "    \"\"\"\n",
    "    Summary: This function fill out the NaN values on monthly and yearly competition features \n",
    "    Args: Main Dataframe, Monthly column, Yearly column\n",
    "    Returns: None\n",
    "    \"\"\"\n",
    "    # Monthly\n",
    "    df[month_column] = df.apply(lambda x: x['date'].month if np.isnan(x[month_column]) \n",
    "    else x[month_column], axis=1)\n",
    "    \n",
    "    # Yearly\n",
    "    df[year_column] = df.apply(lambda x: x['date'].year if np.isnan(x[year_column])\n",
    "    else x[year_column], axis=1)\n",
    "\n",
    "    return None\n",
    "\n",
    "def promo2_nan_values(df, week_column, year_column):\n",
    "    \"\"\"\n",
    "    Summary: This function fill out the NaN values on weekly and yearly promo2 features \n",
    "    Args: Main Dataframe, Weekly column, Yearly column\n",
    "    Returns: None\n",
    "    \"\"\"\n",
    "    # Monthly\n",
    "    df[week_column] = df.apply(lambda x: x['date'].week if np.isnan(x[week_column]) \n",
    "    else x[week_column], axis=1)\n",
    "    \n",
    "    # Yearly\n",
    "    df[year_column] = df.apply(lambda x: x['date'].year if np.isnan(x[year_column])\n",
    "    else x[year_column], axis=1)\n",
    "\n",
    "    return None\n",
    "\n",
    "def to_int_64(dataframe, list_of_columns):\n",
    "        \"\"\"\n",
    "        Summary: This function transform the data type of columns (list of columns) to int64\n",
    "        Args: Main Dataframe, List of columns to be modified\n",
    "        Returns: None\n",
    "        \"\"\"\n",
    "        for column in list_of_columns:\n",
    "                dataframe[column] = dataframe[column].astype('int64')\n",
    "\n",
    "        return None"
   ]
  },
  {
   "cell_type": "markdown",
   "metadata": {},
   "source": [
    "### 0.4. Dataset"
   ]
  },
  {
   "cell_type": "code",
   "execution_count": 4,
   "metadata": {},
   "outputs": [],
   "source": [
    "# Importing data\n",
    "df_store = pd.read_csv('../data/raw/store.csv')\n",
    "df_sales = pd.read_csv('../data/raw/train.csv')\n",
    "\n",
    "# Merging dataframes\n",
    "df_merge = pd.merge(df_sales, df_store, how='left', on='Store')\n",
    "\n",
    "# # Export merge dataframe\n",
    "df_merge.to_csv('../data/interim/merged_dataset.csv', index=False)\n",
    "\n",
    "# Working with df as main dataframe\n",
    "df = pd.read_csv('../data/interim/merged_dataset.csv')"
   ]
  },
  {
   "cell_type": "markdown",
   "metadata": {},
   "source": [
    "## 1. Data Description"
   ]
  },
  {
   "cell_type": "code",
   "execution_count": 5,
   "metadata": {},
   "outputs": [
    {
     "data": {
      "text/html": [
       "<div>\n",
       "<style scoped>\n",
       "    .dataframe tbody tr th:only-of-type {\n",
       "        vertical-align: middle;\n",
       "    }\n",
       "\n",
       "    .dataframe tbody tr th {\n",
       "        vertical-align: top;\n",
       "    }\n",
       "\n",
       "    .dataframe thead th {\n",
       "        text-align: right;\n",
       "    }\n",
       "</style>\n",
       "<table border=\"1\" class=\"dataframe\">\n",
       "  <thead>\n",
       "    <tr style=\"text-align: right;\">\n",
       "      <th></th>\n",
       "      <th>Store</th>\n",
       "      <th>DayOfWeek</th>\n",
       "      <th>Date</th>\n",
       "      <th>Sales</th>\n",
       "      <th>Customers</th>\n",
       "      <th>Open</th>\n",
       "      <th>Promo</th>\n",
       "      <th>StateHoliday</th>\n",
       "      <th>SchoolHoliday</th>\n",
       "      <th>StoreType</th>\n",
       "      <th>Assortment</th>\n",
       "      <th>CompetitionDistance</th>\n",
       "      <th>CompetitionOpenSinceMonth</th>\n",
       "      <th>CompetitionOpenSinceYear</th>\n",
       "      <th>Promo2</th>\n",
       "      <th>Promo2SinceWeek</th>\n",
       "      <th>Promo2SinceYear</th>\n",
       "      <th>PromoInterval</th>\n",
       "    </tr>\n",
       "  </thead>\n",
       "  <tbody>\n",
       "    <tr>\n",
       "      <th>0</th>\n",
       "      <td>1</td>\n",
       "      <td>5</td>\n",
       "      <td>2015-07-31</td>\n",
       "      <td>5263</td>\n",
       "      <td>555</td>\n",
       "      <td>1</td>\n",
       "      <td>1</td>\n",
       "      <td>0</td>\n",
       "      <td>1</td>\n",
       "      <td>c</td>\n",
       "      <td>a</td>\n",
       "      <td>1270.00</td>\n",
       "      <td>9.00</td>\n",
       "      <td>2008.00</td>\n",
       "      <td>0</td>\n",
       "      <td>NaN</td>\n",
       "      <td>NaN</td>\n",
       "      <td>NaN</td>\n",
       "    </tr>\n",
       "    <tr>\n",
       "      <th>1</th>\n",
       "      <td>2</td>\n",
       "      <td>5</td>\n",
       "      <td>2015-07-31</td>\n",
       "      <td>6064</td>\n",
       "      <td>625</td>\n",
       "      <td>1</td>\n",
       "      <td>1</td>\n",
       "      <td>0</td>\n",
       "      <td>1</td>\n",
       "      <td>a</td>\n",
       "      <td>a</td>\n",
       "      <td>570.00</td>\n",
       "      <td>11.00</td>\n",
       "      <td>2007.00</td>\n",
       "      <td>1</td>\n",
       "      <td>13.00</td>\n",
       "      <td>2010.00</td>\n",
       "      <td>Jan,Apr,Jul,Oct</td>\n",
       "    </tr>\n",
       "    <tr>\n",
       "      <th>2</th>\n",
       "      <td>3</td>\n",
       "      <td>5</td>\n",
       "      <td>2015-07-31</td>\n",
       "      <td>8314</td>\n",
       "      <td>821</td>\n",
       "      <td>1</td>\n",
       "      <td>1</td>\n",
       "      <td>0</td>\n",
       "      <td>1</td>\n",
       "      <td>a</td>\n",
       "      <td>a</td>\n",
       "      <td>14130.00</td>\n",
       "      <td>12.00</td>\n",
       "      <td>2006.00</td>\n",
       "      <td>1</td>\n",
       "      <td>14.00</td>\n",
       "      <td>2011.00</td>\n",
       "      <td>Jan,Apr,Jul,Oct</td>\n",
       "    </tr>\n",
       "    <tr>\n",
       "      <th>3</th>\n",
       "      <td>4</td>\n",
       "      <td>5</td>\n",
       "      <td>2015-07-31</td>\n",
       "      <td>13995</td>\n",
       "      <td>1498</td>\n",
       "      <td>1</td>\n",
       "      <td>1</td>\n",
       "      <td>0</td>\n",
       "      <td>1</td>\n",
       "      <td>c</td>\n",
       "      <td>c</td>\n",
       "      <td>620.00</td>\n",
       "      <td>9.00</td>\n",
       "      <td>2009.00</td>\n",
       "      <td>0</td>\n",
       "      <td>NaN</td>\n",
       "      <td>NaN</td>\n",
       "      <td>NaN</td>\n",
       "    </tr>\n",
       "    <tr>\n",
       "      <th>4</th>\n",
       "      <td>5</td>\n",
       "      <td>5</td>\n",
       "      <td>2015-07-31</td>\n",
       "      <td>4822</td>\n",
       "      <td>559</td>\n",
       "      <td>1</td>\n",
       "      <td>1</td>\n",
       "      <td>0</td>\n",
       "      <td>1</td>\n",
       "      <td>a</td>\n",
       "      <td>a</td>\n",
       "      <td>29910.00</td>\n",
       "      <td>4.00</td>\n",
       "      <td>2015.00</td>\n",
       "      <td>0</td>\n",
       "      <td>NaN</td>\n",
       "      <td>NaN</td>\n",
       "      <td>NaN</td>\n",
       "    </tr>\n",
       "  </tbody>\n",
       "</table>\n",
       "</div>"
      ],
      "text/plain": [
       "   Store  DayOfWeek        Date  Sales  Customers  Open  Promo StateHoliday  \\\n",
       "0      1          5  2015-07-31   5263        555     1      1            0   \n",
       "1      2          5  2015-07-31   6064        625     1      1            0   \n",
       "2      3          5  2015-07-31   8314        821     1      1            0   \n",
       "3      4          5  2015-07-31  13995       1498     1      1            0   \n",
       "4      5          5  2015-07-31   4822        559     1      1            0   \n",
       "\n",
       "   SchoolHoliday StoreType Assortment  CompetitionDistance  \\\n",
       "0              1         c          a              1270.00   \n",
       "1              1         a          a               570.00   \n",
       "2              1         a          a             14130.00   \n",
       "3              1         c          c               620.00   \n",
       "4              1         a          a             29910.00   \n",
       "\n",
       "   CompetitionOpenSinceMonth  CompetitionOpenSinceYear  Promo2  \\\n",
       "0                       9.00                   2008.00       0   \n",
       "1                      11.00                   2007.00       1   \n",
       "2                      12.00                   2006.00       1   \n",
       "3                       9.00                   2009.00       0   \n",
       "4                       4.00                   2015.00       0   \n",
       "\n",
       "   Promo2SinceWeek  Promo2SinceYear    PromoInterval  \n",
       "0              NaN              NaN              NaN  \n",
       "1            13.00          2010.00  Jan,Apr,Jul,Oct  \n",
       "2            14.00          2011.00  Jan,Apr,Jul,Oct  \n",
       "3              NaN              NaN              NaN  \n",
       "4              NaN              NaN              NaN  "
      ]
     },
     "execution_count": 5,
     "metadata": {},
     "output_type": "execute_result"
    }
   ],
   "source": [
    "df.head()"
   ]
  },
  {
   "cell_type": "markdown",
   "metadata": {},
   "source": [
    "### 1.1. Data dimensions"
   ]
  },
  {
   "cell_type": "code",
   "execution_count": 6,
   "metadata": {},
   "outputs": [
    {
     "name": "stdout",
     "output_type": "stream",
     "text": [
      "Number of rows: 1,017,209\n",
      "Number of columns: 18\n"
     ]
    }
   ],
   "source": [
    "df_shape(df)"
   ]
  },
  {
   "cell_type": "markdown",
   "metadata": {},
   "source": [
    "### 1.2. Columns"
   ]
  },
  {
   "cell_type": "code",
   "execution_count": 7,
   "metadata": {},
   "outputs": [
    {
     "data": {
      "text/plain": [
       "['Store',\n",
       " 'DayOfWeek',\n",
       " 'Date',\n",
       " 'Sales',\n",
       " 'Customers',\n",
       " 'Open',\n",
       " 'Promo',\n",
       " 'StateHoliday',\n",
       " 'SchoolHoliday',\n",
       " 'StoreType',\n",
       " 'Assortment',\n",
       " 'CompetitionDistance',\n",
       " 'CompetitionOpenSinceMonth',\n",
       " 'CompetitionOpenSinceYear',\n",
       " 'Promo2',\n",
       " 'Promo2SinceWeek',\n",
       " 'Promo2SinceYear',\n",
       " 'PromoInterval']"
      ]
     },
     "execution_count": 7,
     "metadata": {},
     "output_type": "execute_result"
    }
   ],
   "source": [
    "df.columns.to_list()"
   ]
  },
  {
   "cell_type": "markdown",
   "metadata": {},
   "source": [
    "### 1.3. Data types"
   ]
  },
  {
   "cell_type": "code",
   "execution_count": 8,
   "metadata": {},
   "outputs": [
    {
     "name": "stdout",
     "output_type": "stream",
     "text": [
      "<class 'pandas.core.frame.DataFrame'>\n",
      "RangeIndex: 1017209 entries, 0 to 1017208\n",
      "Data columns (total 18 columns):\n",
      " #   Column                     Non-Null Count    Dtype  \n",
      "---  ------                     --------------    -----  \n",
      " 0   Store                      1017209 non-null  int64  \n",
      " 1   DayOfWeek                  1017209 non-null  int64  \n",
      " 2   Date                       1017209 non-null  object \n",
      " 3   Sales                      1017209 non-null  int64  \n",
      " 4   Customers                  1017209 non-null  int64  \n",
      " 5   Open                       1017209 non-null  int64  \n",
      " 6   Promo                      1017209 non-null  int64  \n",
      " 7   StateHoliday               1017209 non-null  object \n",
      " 8   SchoolHoliday              1017209 non-null  int64  \n",
      " 9   StoreType                  1017209 non-null  object \n",
      " 10  Assortment                 1017209 non-null  object \n",
      " 11  CompetitionDistance        1014567 non-null  float64\n",
      " 12  CompetitionOpenSinceMonth  693861 non-null   float64\n",
      " 13  CompetitionOpenSinceYear   693861 non-null   float64\n",
      " 14  Promo2                     1017209 non-null  int64  \n",
      " 15  Promo2SinceWeek            509178 non-null   float64\n",
      " 16  Promo2SinceYear            509178 non-null   float64\n",
      " 17  PromoInterval              509178 non-null   object \n",
      "dtypes: float64(5), int64(8), object(5)\n",
      "memory usage: 139.7+ MB\n"
     ]
    }
   ],
   "source": [
    "df.info()"
   ]
  },
  {
   "cell_type": "markdown",
   "metadata": {},
   "source": [
    "### 1.4. Checking NaN"
   ]
  },
  {
   "cell_type": "code",
   "execution_count": 9,
   "metadata": {},
   "outputs": [
    {
     "data": {
      "text/html": [
       "<div>\n",
       "<style scoped>\n",
       "    .dataframe tbody tr th:only-of-type {\n",
       "        vertical-align: middle;\n",
       "    }\n",
       "\n",
       "    .dataframe tbody tr th {\n",
       "        vertical-align: top;\n",
       "    }\n",
       "\n",
       "    .dataframe thead th {\n",
       "        text-align: right;\n",
       "    }\n",
       "</style>\n",
       "<table border=\"1\" class=\"dataframe\">\n",
       "  <thead>\n",
       "    <tr style=\"text-align: right;\">\n",
       "      <th></th>\n",
       "      <th>NA</th>\n",
       "      <th>NA%</th>\n",
       "    </tr>\n",
       "  </thead>\n",
       "  <tbody>\n",
       "    <tr>\n",
       "      <th>PromoInterval</th>\n",
       "      <td>508,031</td>\n",
       "      <td>49.94%</td>\n",
       "    </tr>\n",
       "    <tr>\n",
       "      <th>Promo2SinceYear</th>\n",
       "      <td>508,031</td>\n",
       "      <td>49.94%</td>\n",
       "    </tr>\n",
       "    <tr>\n",
       "      <th>Promo2SinceWeek</th>\n",
       "      <td>508,031</td>\n",
       "      <td>49.94%</td>\n",
       "    </tr>\n",
       "    <tr>\n",
       "      <th>CompetitionOpenSinceYear</th>\n",
       "      <td>323,348</td>\n",
       "      <td>31.79%</td>\n",
       "    </tr>\n",
       "    <tr>\n",
       "      <th>CompetitionOpenSinceMonth</th>\n",
       "      <td>323,348</td>\n",
       "      <td>31.79%</td>\n",
       "    </tr>\n",
       "    <tr>\n",
       "      <th>CompetitionDistance</th>\n",
       "      <td>2,642</td>\n",
       "      <td>0.26%</td>\n",
       "    </tr>\n",
       "  </tbody>\n",
       "</table>\n",
       "</div>"
      ],
      "text/plain": [
       "                                NA     NA%\n",
       "PromoInterval              508,031  49.94%\n",
       "Promo2SinceYear            508,031  49.94%\n",
       "Promo2SinceWeek            508,031  49.94%\n",
       "CompetitionOpenSinceYear   323,348  31.79%\n",
       "CompetitionOpenSinceMonth  323,348  31.79%\n",
       "CompetitionDistance          2,642   0.26%"
      ]
     },
     "execution_count": 9,
     "metadata": {},
     "output_type": "execute_result"
    }
   ],
   "source": [
    "df_na_values(df)"
   ]
  },
  {
   "cell_type": "markdown",
   "metadata": {},
   "source": [
    "## 2. Data Exploration and Preprocessing"
   ]
  },
  {
   "cell_type": "markdown",
   "metadata": {},
   "source": [
    "### 2.1. Renaming columns"
   ]
  },
  {
   "cell_type": "code",
   "execution_count": 10,
   "metadata": {},
   "outputs": [
    {
     "data": {
      "text/plain": [
       "Index(['store', 'day_of_week', 'date', 'sales', 'customers', 'open', 'promo',\n",
       "       'state_holiday', 'school_holiday', 'store_type', 'assortment',\n",
       "       'comp_distance', 'comp_open_month', 'comp_open_year', 'promo2',\n",
       "       'promo2_since_week', 'promo2_since_year', 'promo_interval'],\n",
       "      dtype='object')"
      ]
     },
     "execution_count": 10,
     "metadata": {},
     "output_type": "execute_result"
    }
   ],
   "source": [
    "# Renaming columns to snake_case style\n",
    "columns_to_snake_case(df)\n",
    "\n",
    "# Shortening columns names\n",
    "mapping = {\n",
    "    'competition_distance':         'comp_distance',\n",
    "    'competition_open_since_month': 'comp_open_month',\n",
    "    'competition_open_since_year':  'comp_open_year'}\n",
    "\n",
    "df.rename(columns=mapping, inplace=True)\n",
    "\n",
    "# Visualizing column names\n",
    "df.columns"
   ]
  },
  {
   "cell_type": "markdown",
   "metadata": {},
   "source": [
    "### 2.2. Datetime variable"
   ]
  },
  {
   "cell_type": "code",
   "execution_count": 11,
   "metadata": {},
   "outputs": [],
   "source": [
    "# Column 'date' to datetime\n",
    "df['date'] = pd.to_datetime(df['date'])"
   ]
  },
  {
   "cell_type": "markdown",
   "metadata": {},
   "source": [
    "### 2.3. Filling out NaN values on date-related columns"
   ]
  },
  {
   "cell_type": "markdown",
   "metadata": {},
   "source": [
    "**Competition Open Since Month & Year**\n",
    "\n",
    "The missing values in `competition_open_since_month` and `competition_open_since_year` will be replaced with the month and year from `date` column"
   ]
  },
  {
   "cell_type": "code",
   "execution_count": 12,
   "metadata": {},
   "outputs": [],
   "source": [
    "comp_nan_values(df, 'comp_open_month', 'comp_open_year')"
   ]
  },
  {
   "cell_type": "markdown",
   "metadata": {},
   "source": [
    "**Promo2 Since Week & Year**\n",
    "\n",
    "The missing values in `promo2_since_week` and `promo2_since_year` are replaced the same way as above, with data from the `date` column."
   ]
  },
  {
   "cell_type": "code",
   "execution_count": 13,
   "metadata": {},
   "outputs": [],
   "source": [
    "promo2_nan_values(df, 'promo2_since_week', 'promo2_since_year')"
   ]
  },
  {
   "cell_type": "markdown",
   "metadata": {},
   "source": [
    "**Promo Interval**\n",
    "\n",
    "The missing values in `promo_interval` will be replaced as zeros, considering that the promotion never took place."
   ]
  },
  {
   "cell_type": "code",
   "execution_count": 14,
   "metadata": {},
   "outputs": [],
   "source": [
    "df['promo_interval'].fillna(0, inplace=True)"
   ]
  },
  {
   "cell_type": "code",
   "execution_count": 15,
   "metadata": {},
   "outputs": [
    {
     "data": {
      "text/html": [
       "<div>\n",
       "<style scoped>\n",
       "    .dataframe tbody tr th:only-of-type {\n",
       "        vertical-align: middle;\n",
       "    }\n",
       "\n",
       "    .dataframe tbody tr th {\n",
       "        vertical-align: top;\n",
       "    }\n",
       "\n",
       "    .dataframe thead th {\n",
       "        text-align: right;\n",
       "    }\n",
       "</style>\n",
       "<table border=\"1\" class=\"dataframe\">\n",
       "  <thead>\n",
       "    <tr style=\"text-align: right;\">\n",
       "      <th></th>\n",
       "      <th>NA</th>\n",
       "      <th>NA%</th>\n",
       "    </tr>\n",
       "  </thead>\n",
       "  <tbody>\n",
       "    <tr>\n",
       "      <th>comp_distance</th>\n",
       "      <td>2,642</td>\n",
       "      <td>0.26%</td>\n",
       "    </tr>\n",
       "  </tbody>\n",
       "</table>\n",
       "</div>"
      ],
      "text/plain": [
       "                  NA    NA%\n",
       "comp_distance  2,642  0.26%"
      ]
     },
     "execution_count": 15,
     "metadata": {},
     "output_type": "execute_result"
    }
   ],
   "source": [
    "# Checking missing values\n",
    "df_na_values(df)"
   ]
  },
  {
   "cell_type": "markdown",
   "metadata": {},
   "source": [
    "**Competition Distance**\n",
    "\n",
    "The missing values in `competition_distance` problably indicates that there are no near competitors or maybe they are too far away. \n",
    "\n",
    "Therefore, a calculus will be used to fill the missing values after the train-test split."
   ]
  },
  {
   "cell_type": "markdown",
   "metadata": {},
   "source": [
    "### 2.4. Changing data types"
   ]
  },
  {
   "cell_type": "code",
   "execution_count": 16,
   "metadata": {},
   "outputs": [],
   "source": [
    "# Transforming float to int64\n",
    "list_to_int_64 = ['comp_open_month', 'comp_open_year', 'promo2_since_week', 'promo2_since_year']\n",
    "\n",
    "to_int_64(df, list_to_int_64)"
   ]
  },
  {
   "cell_type": "markdown",
   "metadata": {},
   "source": [
    "### 2.5. Reasonable Changes"
   ]
  },
  {
   "cell_type": "code",
   "execution_count": 17,
   "metadata": {},
   "outputs": [],
   "source": [
    "# Since Rossmann was founded in March 17 1972, if \"competition_since_dates\" is less than founding date, it will be replaced by it\n",
    "# 349 occurrances of 'comp_open_year' < 1972\n",
    "df.loc[df['comp_open_year'] < 1972, 'comp_open_year'] = 1972"
   ]
  },
  {
   "cell_type": "markdown",
   "metadata": {},
   "source": [
    "### 2.6. Features Creation for EDA"
   ]
  },
  {
   "cell_type": "markdown",
   "metadata": {},
   "source": [
    "#### 2.6.1. Date and time features"
   ]
  },
  {
   "cell_type": "code",
   "execution_count": 18,
   "metadata": {},
   "outputs": [],
   "source": [
    "df['year']       = df['date'].dt.year # Year\n",
    "df['month']      = df['date'].dt.month # Month\n",
    "df['week']       = df['date'].dt.weekofyear # Week\n",
    "df['day']        = df['date'].dt.day # Day\n",
    "df['year_week']  = df['date'].dt.strftime('%Y-%W') # Year-Week"
   ]
  },
  {
   "cell_type": "markdown",
   "metadata": {},
   "source": [
    "#### 2.6.2. Competition features"
   ]
  },
  {
   "cell_type": "code",
   "execution_count": 19,
   "metadata": {},
   "outputs": [],
   "source": [
    "# New feature based on year and month \n",
    "df['comp_since'] = df.apply(\n",
    "    lambda x: datetime.datetime(\n",
    "        year  =x['comp_open_year'], \n",
    "        month =x['comp_open_month'], day=1), axis=1)\n",
    "\n",
    "# Time of competition in days\n",
    "df['comp_time_delta'] = df['date'] - df['comp_since']\n",
    "\n",
    "# Corrections where 'comp_since' is higher than 'date'\n",
    "df.loc[df['comp_since'] > df['date'], 'comp_time_delta'] = datetime.timedelta(days=0, hours=0, minutes=0, seconds=0)\n",
    "\n",
    "# Time of competition in months\n",
    "df['comp_time_month'] = df['comp_time_delta'].astype('timedelta64[M]')\n",
    "\n",
    "# Dropping unnecessary columns\n",
    "df.drop(['comp_open_month', 'comp_open_year'], axis=1, inplace=True)"
   ]
  },
  {
   "cell_type": "markdown",
   "metadata": {},
   "source": [
    "#### 2.6.3. Promotion features"
   ]
  },
  {
   "cell_type": "code",
   "execution_count": 20,
   "metadata": {},
   "outputs": [],
   "source": [
    "# Time of promotion\n",
    "df['promo_since'] = df['promo2_since_year'].astype(str) + '-' + df['promo2_since_week'].astype(str)\n",
    "\n",
    "# Promo as datetime\n",
    "df['promo_since'] = df['promo_since'].apply(\n",
    "    lambda x: datetime.datetime.strptime(x + '-1', '%Y-%W-%w') - datetime.timedelta(days=7))\n",
    "\n",
    "# Time of promo in days\n",
    "df['promo_time_delta'] = df['date'] - df['promo_since']\n",
    "\n",
    "# Corrections\n",
    "df.loc[df['promo_since'] > df['date'], 'promo_time_delta'] = datetime.timedelta(days=0, hours=0, minutes=0, seconds=0)\n",
    "\n",
    "# Time of promotion in months\n",
    "df['promo_time_month'] = df['promo_time_delta'].astype('timedelta64[M]')\n",
    "\n",
    "# Dropping unnecessary columns\n",
    "df.drop(['promo2_since_week', 'promo2_since_year', 'promo_interval'], axis=1, inplace=True)"
   ]
  },
  {
   "cell_type": "markdown",
   "metadata": {},
   "source": [
    "#### 2.6.4. Categorical Variables"
   ]
  },
  {
   "cell_type": "code",
   "execution_count": 21,
   "metadata": {},
   "outputs": [],
   "source": [
    "# Assortment\n",
    "df['assortment'] = df['assortment'].apply(\n",
    "    lambda x: 'basic' if x == 'a' else 'extra' if x == 'b' else 'extended')\n",
    "\n",
    "# State Holiday\n",
    "df['state_holiday'] = df['state_holiday'].apply(\n",
    "    lambda x: 'public_holiday' if x == 'a' \n",
    "    else 'easter_holiday' if x == 'b' \n",
    "    else 'christmas' if x == 'c' \n",
    "    else 'regular_day' )"
   ]
  },
  {
   "cell_type": "markdown",
   "metadata": {},
   "source": [
    "## Exporting Processed Dataset"
   ]
  },
  {
   "cell_type": "code",
   "execution_count": 22,
   "metadata": {},
   "outputs": [],
   "source": [
    "df.to_parquet('../data/processed/preprocessed_dataset.parquet', index=False)"
   ]
  },
  {
   "cell_type": "code",
   "execution_count": 23,
   "metadata": {},
   "outputs": [
    {
     "data": {
      "text/html": [
       "<div>\n",
       "<style scoped>\n",
       "    .dataframe tbody tr th:only-of-type {\n",
       "        vertical-align: middle;\n",
       "    }\n",
       "\n",
       "    .dataframe tbody tr th {\n",
       "        vertical-align: top;\n",
       "    }\n",
       "\n",
       "    .dataframe thead th {\n",
       "        text-align: right;\n",
       "    }\n",
       "</style>\n",
       "<table border=\"1\" class=\"dataframe\">\n",
       "  <thead>\n",
       "    <tr style=\"text-align: right;\">\n",
       "      <th></th>\n",
       "      <th>store</th>\n",
       "      <th>day_of_week</th>\n",
       "      <th>date</th>\n",
       "      <th>sales</th>\n",
       "      <th>customers</th>\n",
       "      <th>open</th>\n",
       "      <th>promo</th>\n",
       "      <th>state_holiday</th>\n",
       "      <th>school_holiday</th>\n",
       "      <th>store_type</th>\n",
       "      <th>assortment</th>\n",
       "      <th>comp_distance</th>\n",
       "      <th>promo2</th>\n",
       "      <th>year</th>\n",
       "      <th>month</th>\n",
       "      <th>week</th>\n",
       "      <th>day</th>\n",
       "      <th>year_week</th>\n",
       "      <th>comp_since</th>\n",
       "      <th>comp_time_delta</th>\n",
       "      <th>comp_time_month</th>\n",
       "      <th>promo_since</th>\n",
       "      <th>promo_time_delta</th>\n",
       "      <th>promo_time_month</th>\n",
       "    </tr>\n",
       "  </thead>\n",
       "  <tbody>\n",
       "    <tr>\n",
       "      <th>0</th>\n",
       "      <td>1</td>\n",
       "      <td>5</td>\n",
       "      <td>2015-07-31</td>\n",
       "      <td>5263</td>\n",
       "      <td>555</td>\n",
       "      <td>1</td>\n",
       "      <td>1</td>\n",
       "      <td>regular_day</td>\n",
       "      <td>1</td>\n",
       "      <td>c</td>\n",
       "      <td>basic</td>\n",
       "      <td>1270.00</td>\n",
       "      <td>0</td>\n",
       "      <td>2015</td>\n",
       "      <td>7</td>\n",
       "      <td>31</td>\n",
       "      <td>31</td>\n",
       "      <td>2015-30</td>\n",
       "      <td>2008-09-01</td>\n",
       "      <td>2524 days</td>\n",
       "      <td>82.00</td>\n",
       "      <td>2015-07-27</td>\n",
       "      <td>4 days</td>\n",
       "      <td>0.00</td>\n",
       "    </tr>\n",
       "    <tr>\n",
       "      <th>1</th>\n",
       "      <td>2</td>\n",
       "      <td>5</td>\n",
       "      <td>2015-07-31</td>\n",
       "      <td>6064</td>\n",
       "      <td>625</td>\n",
       "      <td>1</td>\n",
       "      <td>1</td>\n",
       "      <td>regular_day</td>\n",
       "      <td>1</td>\n",
       "      <td>a</td>\n",
       "      <td>basic</td>\n",
       "      <td>570.00</td>\n",
       "      <td>1</td>\n",
       "      <td>2015</td>\n",
       "      <td>7</td>\n",
       "      <td>31</td>\n",
       "      <td>31</td>\n",
       "      <td>2015-30</td>\n",
       "      <td>2007-11-01</td>\n",
       "      <td>2829 days</td>\n",
       "      <td>92.00</td>\n",
       "      <td>2010-03-22</td>\n",
       "      <td>1957 days</td>\n",
       "      <td>64.00</td>\n",
       "    </tr>\n",
       "    <tr>\n",
       "      <th>2</th>\n",
       "      <td>3</td>\n",
       "      <td>5</td>\n",
       "      <td>2015-07-31</td>\n",
       "      <td>8314</td>\n",
       "      <td>821</td>\n",
       "      <td>1</td>\n",
       "      <td>1</td>\n",
       "      <td>regular_day</td>\n",
       "      <td>1</td>\n",
       "      <td>a</td>\n",
       "      <td>basic</td>\n",
       "      <td>14130.00</td>\n",
       "      <td>1</td>\n",
       "      <td>2015</td>\n",
       "      <td>7</td>\n",
       "      <td>31</td>\n",
       "      <td>31</td>\n",
       "      <td>2015-30</td>\n",
       "      <td>2006-12-01</td>\n",
       "      <td>3164 days</td>\n",
       "      <td>103.00</td>\n",
       "      <td>2011-03-28</td>\n",
       "      <td>1586 days</td>\n",
       "      <td>52.00</td>\n",
       "    </tr>\n",
       "    <tr>\n",
       "      <th>3</th>\n",
       "      <td>4</td>\n",
       "      <td>5</td>\n",
       "      <td>2015-07-31</td>\n",
       "      <td>13995</td>\n",
       "      <td>1498</td>\n",
       "      <td>1</td>\n",
       "      <td>1</td>\n",
       "      <td>regular_day</td>\n",
       "      <td>1</td>\n",
       "      <td>c</td>\n",
       "      <td>extended</td>\n",
       "      <td>620.00</td>\n",
       "      <td>0</td>\n",
       "      <td>2015</td>\n",
       "      <td>7</td>\n",
       "      <td>31</td>\n",
       "      <td>31</td>\n",
       "      <td>2015-30</td>\n",
       "      <td>2009-09-01</td>\n",
       "      <td>2159 days</td>\n",
       "      <td>70.00</td>\n",
       "      <td>2015-07-27</td>\n",
       "      <td>4 days</td>\n",
       "      <td>0.00</td>\n",
       "    </tr>\n",
       "    <tr>\n",
       "      <th>4</th>\n",
       "      <td>5</td>\n",
       "      <td>5</td>\n",
       "      <td>2015-07-31</td>\n",
       "      <td>4822</td>\n",
       "      <td>559</td>\n",
       "      <td>1</td>\n",
       "      <td>1</td>\n",
       "      <td>regular_day</td>\n",
       "      <td>1</td>\n",
       "      <td>a</td>\n",
       "      <td>basic</td>\n",
       "      <td>29910.00</td>\n",
       "      <td>0</td>\n",
       "      <td>2015</td>\n",
       "      <td>7</td>\n",
       "      <td>31</td>\n",
       "      <td>31</td>\n",
       "      <td>2015-30</td>\n",
       "      <td>2015-04-01</td>\n",
       "      <td>121 days</td>\n",
       "      <td>3.00</td>\n",
       "      <td>2015-07-27</td>\n",
       "      <td>4 days</td>\n",
       "      <td>0.00</td>\n",
       "    </tr>\n",
       "    <tr>\n",
       "      <th>...</th>\n",
       "      <td>...</td>\n",
       "      <td>...</td>\n",
       "      <td>...</td>\n",
       "      <td>...</td>\n",
       "      <td>...</td>\n",
       "      <td>...</td>\n",
       "      <td>...</td>\n",
       "      <td>...</td>\n",
       "      <td>...</td>\n",
       "      <td>...</td>\n",
       "      <td>...</td>\n",
       "      <td>...</td>\n",
       "      <td>...</td>\n",
       "      <td>...</td>\n",
       "      <td>...</td>\n",
       "      <td>...</td>\n",
       "      <td>...</td>\n",
       "      <td>...</td>\n",
       "      <td>...</td>\n",
       "      <td>...</td>\n",
       "      <td>...</td>\n",
       "      <td>...</td>\n",
       "      <td>...</td>\n",
       "      <td>...</td>\n",
       "    </tr>\n",
       "    <tr>\n",
       "      <th>1017204</th>\n",
       "      <td>1111</td>\n",
       "      <td>2</td>\n",
       "      <td>2013-01-01</td>\n",
       "      <td>0</td>\n",
       "      <td>0</td>\n",
       "      <td>0</td>\n",
       "      <td>0</td>\n",
       "      <td>public_holiday</td>\n",
       "      <td>1</td>\n",
       "      <td>a</td>\n",
       "      <td>basic</td>\n",
       "      <td>1900.00</td>\n",
       "      <td>1</td>\n",
       "      <td>2013</td>\n",
       "      <td>1</td>\n",
       "      <td>1</td>\n",
       "      <td>1</td>\n",
       "      <td>2013-00</td>\n",
       "      <td>2014-06-01</td>\n",
       "      <td>0 days</td>\n",
       "      <td>0.00</td>\n",
       "      <td>2013-07-29</td>\n",
       "      <td>0 days</td>\n",
       "      <td>0.00</td>\n",
       "    </tr>\n",
       "    <tr>\n",
       "      <th>1017205</th>\n",
       "      <td>1112</td>\n",
       "      <td>2</td>\n",
       "      <td>2013-01-01</td>\n",
       "      <td>0</td>\n",
       "      <td>0</td>\n",
       "      <td>0</td>\n",
       "      <td>0</td>\n",
       "      <td>public_holiday</td>\n",
       "      <td>1</td>\n",
       "      <td>c</td>\n",
       "      <td>extended</td>\n",
       "      <td>1880.00</td>\n",
       "      <td>0</td>\n",
       "      <td>2013</td>\n",
       "      <td>1</td>\n",
       "      <td>1</td>\n",
       "      <td>1</td>\n",
       "      <td>2013-00</td>\n",
       "      <td>2006-04-01</td>\n",
       "      <td>2467 days</td>\n",
       "      <td>81.00</td>\n",
       "      <td>2012-12-31</td>\n",
       "      <td>1 days</td>\n",
       "      <td>0.00</td>\n",
       "    </tr>\n",
       "    <tr>\n",
       "      <th>1017206</th>\n",
       "      <td>1113</td>\n",
       "      <td>2</td>\n",
       "      <td>2013-01-01</td>\n",
       "      <td>0</td>\n",
       "      <td>0</td>\n",
       "      <td>0</td>\n",
       "      <td>0</td>\n",
       "      <td>public_holiday</td>\n",
       "      <td>1</td>\n",
       "      <td>a</td>\n",
       "      <td>extended</td>\n",
       "      <td>9260.00</td>\n",
       "      <td>0</td>\n",
       "      <td>2013</td>\n",
       "      <td>1</td>\n",
       "      <td>1</td>\n",
       "      <td>1</td>\n",
       "      <td>2013-00</td>\n",
       "      <td>2013-01-01</td>\n",
       "      <td>0 days</td>\n",
       "      <td>0.00</td>\n",
       "      <td>2012-12-31</td>\n",
       "      <td>1 days</td>\n",
       "      <td>0.00</td>\n",
       "    </tr>\n",
       "    <tr>\n",
       "      <th>1017207</th>\n",
       "      <td>1114</td>\n",
       "      <td>2</td>\n",
       "      <td>2013-01-01</td>\n",
       "      <td>0</td>\n",
       "      <td>0</td>\n",
       "      <td>0</td>\n",
       "      <td>0</td>\n",
       "      <td>public_holiday</td>\n",
       "      <td>1</td>\n",
       "      <td>a</td>\n",
       "      <td>extended</td>\n",
       "      <td>870.00</td>\n",
       "      <td>0</td>\n",
       "      <td>2013</td>\n",
       "      <td>1</td>\n",
       "      <td>1</td>\n",
       "      <td>1</td>\n",
       "      <td>2013-00</td>\n",
       "      <td>2013-01-01</td>\n",
       "      <td>0 days</td>\n",
       "      <td>0.00</td>\n",
       "      <td>2012-12-31</td>\n",
       "      <td>1 days</td>\n",
       "      <td>0.00</td>\n",
       "    </tr>\n",
       "    <tr>\n",
       "      <th>1017208</th>\n",
       "      <td>1115</td>\n",
       "      <td>2</td>\n",
       "      <td>2013-01-01</td>\n",
       "      <td>0</td>\n",
       "      <td>0</td>\n",
       "      <td>0</td>\n",
       "      <td>0</td>\n",
       "      <td>public_holiday</td>\n",
       "      <td>1</td>\n",
       "      <td>d</td>\n",
       "      <td>extended</td>\n",
       "      <td>5350.00</td>\n",
       "      <td>1</td>\n",
       "      <td>2013</td>\n",
       "      <td>1</td>\n",
       "      <td>1</td>\n",
       "      <td>1</td>\n",
       "      <td>2013-00</td>\n",
       "      <td>2013-01-01</td>\n",
       "      <td>0 days</td>\n",
       "      <td>0.00</td>\n",
       "      <td>2012-05-21</td>\n",
       "      <td>225 days</td>\n",
       "      <td>7.00</td>\n",
       "    </tr>\n",
       "  </tbody>\n",
       "</table>\n",
       "<p>1017209 rows × 24 columns</p>\n",
       "</div>"
      ],
      "text/plain": [
       "         store  day_of_week       date  sales  customers  open  promo  \\\n",
       "0            1            5 2015-07-31   5263        555     1      1   \n",
       "1            2            5 2015-07-31   6064        625     1      1   \n",
       "2            3            5 2015-07-31   8314        821     1      1   \n",
       "3            4            5 2015-07-31  13995       1498     1      1   \n",
       "4            5            5 2015-07-31   4822        559     1      1   \n",
       "...        ...          ...        ...    ...        ...   ...    ...   \n",
       "1017204   1111            2 2013-01-01      0          0     0      0   \n",
       "1017205   1112            2 2013-01-01      0          0     0      0   \n",
       "1017206   1113            2 2013-01-01      0          0     0      0   \n",
       "1017207   1114            2 2013-01-01      0          0     0      0   \n",
       "1017208   1115            2 2013-01-01      0          0     0      0   \n",
       "\n",
       "          state_holiday  school_holiday store_type assortment  comp_distance  \\\n",
       "0           regular_day               1          c      basic        1270.00   \n",
       "1           regular_day               1          a      basic         570.00   \n",
       "2           regular_day               1          a      basic       14130.00   \n",
       "3           regular_day               1          c   extended         620.00   \n",
       "4           regular_day               1          a      basic       29910.00   \n",
       "...                 ...             ...        ...        ...            ...   \n",
       "1017204  public_holiday               1          a      basic        1900.00   \n",
       "1017205  public_holiday               1          c   extended        1880.00   \n",
       "1017206  public_holiday               1          a   extended        9260.00   \n",
       "1017207  public_holiday               1          a   extended         870.00   \n",
       "1017208  public_holiday               1          d   extended        5350.00   \n",
       "\n",
       "         promo2  year  month  week  day year_week comp_since comp_time_delta  \\\n",
       "0             0  2015      7    31   31   2015-30 2008-09-01       2524 days   \n",
       "1             1  2015      7    31   31   2015-30 2007-11-01       2829 days   \n",
       "2             1  2015      7    31   31   2015-30 2006-12-01       3164 days   \n",
       "3             0  2015      7    31   31   2015-30 2009-09-01       2159 days   \n",
       "4             0  2015      7    31   31   2015-30 2015-04-01        121 days   \n",
       "...         ...   ...    ...   ...  ...       ...        ...             ...   \n",
       "1017204       1  2013      1     1    1   2013-00 2014-06-01          0 days   \n",
       "1017205       0  2013      1     1    1   2013-00 2006-04-01       2467 days   \n",
       "1017206       0  2013      1     1    1   2013-00 2013-01-01          0 days   \n",
       "1017207       0  2013      1     1    1   2013-00 2013-01-01          0 days   \n",
       "1017208       1  2013      1     1    1   2013-00 2013-01-01          0 days   \n",
       "\n",
       "         comp_time_month promo_since promo_time_delta  promo_time_month  \n",
       "0                  82.00  2015-07-27           4 days              0.00  \n",
       "1                  92.00  2010-03-22        1957 days             64.00  \n",
       "2                 103.00  2011-03-28        1586 days             52.00  \n",
       "3                  70.00  2015-07-27           4 days              0.00  \n",
       "4                   3.00  2015-07-27           4 days              0.00  \n",
       "...                  ...         ...              ...               ...  \n",
       "1017204             0.00  2013-07-29           0 days              0.00  \n",
       "1017205            81.00  2012-12-31           1 days              0.00  \n",
       "1017206             0.00  2012-12-31           1 days              0.00  \n",
       "1017207             0.00  2012-12-31           1 days              0.00  \n",
       "1017208             0.00  2012-05-21         225 days              7.00  \n",
       "\n",
       "[1017209 rows x 24 columns]"
      ]
     },
     "execution_count": 23,
     "metadata": {},
     "output_type": "execute_result"
    }
   ],
   "source": [
    "df"
   ]
  },
  {
   "cell_type": "code",
   "execution_count": 25,
   "metadata": {},
   "outputs": [
    {
     "name": "stdout",
     "output_type": "stream",
     "text": [
      "<class 'pandas.core.frame.DataFrame'>\n",
      "RangeIndex: 1017209 entries, 0 to 1017208\n",
      "Data columns (total 24 columns):\n",
      " #   Column            Non-Null Count    Dtype          \n",
      "---  ------            --------------    -----          \n",
      " 0   store             1017209 non-null  int64          \n",
      " 1   day_of_week       1017209 non-null  int64          \n",
      " 2   date              1017209 non-null  datetime64[ns] \n",
      " 3   sales             1017209 non-null  int64          \n",
      " 4   customers         1017209 non-null  int64          \n",
      " 5   open              1017209 non-null  int64          \n",
      " 6   promo             1017209 non-null  int64          \n",
      " 7   state_holiday     1017209 non-null  object         \n",
      " 8   school_holiday    1017209 non-null  int64          \n",
      " 9   store_type        1017209 non-null  object         \n",
      " 10  assortment        1017209 non-null  object         \n",
      " 11  comp_distance     1014567 non-null  float64        \n",
      " 12  promo2            1017209 non-null  int64          \n",
      " 13  year              1017209 non-null  int64          \n",
      " 14  month             1017209 non-null  int64          \n",
      " 15  week              1017209 non-null  int64          \n",
      " 16  day               1017209 non-null  int64          \n",
      " 17  year_week         1017209 non-null  object         \n",
      " 18  comp_since        1017209 non-null  datetime64[ns] \n",
      " 19  comp_time_delta   1017209 non-null  timedelta64[ns]\n",
      " 20  comp_time_month   1017209 non-null  float64        \n",
      " 21  promo_since       1017209 non-null  datetime64[ns] \n",
      " 22  promo_time_delta  1017209 non-null  timedelta64[ns]\n",
      " 23  promo_time_month  1017209 non-null  float64        \n",
      "dtypes: datetime64[ns](3), float64(3), int64(12), object(4), timedelta64[ns](2)\n",
      "memory usage: 186.3+ MB\n"
     ]
    }
   ],
   "source": [
    "df.info()"
   ]
  }
 ],
 "metadata": {
  "kernelspec": {
   "display_name": "env10",
   "language": "python",
   "name": "python3"
  },
  "language_info": {
   "codemirror_mode": {
    "name": "ipython",
    "version": 3
   },
   "file_extension": ".py",
   "mimetype": "text/x-python",
   "name": "python",
   "nbconvert_exporter": "python",
   "pygments_lexer": "ipython3",
   "version": "3.10.12"
  }
 },
 "nbformat": 4,
 "nbformat_minor": 2
}
